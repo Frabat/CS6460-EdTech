{
  "nbformat": 4,
  "nbformat_minor": 0,
  "metadata": {
    "colab": {
      "provenance": [],
      "authorship_tag": "ABX9TyNbgZpn192a1Em35Biw5hi+",
      "include_colab_link": true
    },
    "kernelspec": {
      "name": "python3",
      "display_name": "Python 3"
    },
    "language_info": {
      "name": "python"
    }
  },
  "cells": [
    {
      "cell_type": "markdown",
      "metadata": {
        "id": "view-in-github",
        "colab_type": "text"
      },
      "source": [
        "<a href=\"https://colab.research.google.com/github/Frabat/CS6460-EdTech/blob/main/EdTech_CS6460_Francesco_Battista.ipynb\" target=\"_parent\"><img src=\"https://colab.research.google.com/assets/colab-badge.svg\" alt=\"Open In Colab\"/></a>"
      ]
    },
    {
      "cell_type": "markdown",
      "source": [
        "# **CS6460 - EdTech**\n",
        "\n",
        "##### **Francesco Battista**\n",
        "##### **fbattista6@gatech.edu**\n",
        "Full research available [here](https://docs.google.com/document/d/1AnAGXw6-aS6OFwv-9a5if5MsAWjOTlvhms9z6vpFEqQ/edit?usp=sharing)\n",
        "\n",
        "## **Abstract**\n",
        "\n",
        "This notebook is meant to be used as a companion for the overall research paper and project presentation.\n",
        "The goal of the project is to determine weather or not short-form video content, in particular TikTok videos, can be used as effective tools when it comes to delivering educational content.\n",
        "In particular, the hypothesis that my research focuses are:\n",
        "\n",
        "### **Null Hypothesis (H<sub>0</sub>)**:\n",
        "*There is no significant relationship between the characteristics of STEM-related TikToks (e.g., creator demographics, content features) and audience engagement or perceived educational value.*\n",
        "\n",
        "### **Alternative Hypothesis (H<sub>1</sub>)**:\n",
        "*There is a significant relationship between the characteristics of STEM-related TikToks and audience engagement or percieved educational value*.<br>\n",
        "The ***Alternative Hypothesis** can be furtherly divided into three smaller sections:\n",
        "- ***H<sub>1</sub>a*** : content created by educators or STEM professionals receive higher engagement than those created by general influencers\n",
        "- ***H<sub>1</sub>b*** : Videos with multiple modalities (e.g., voiceover, subtitles, graphics) correlate with more positive sentiment in comments\n",
        "- ***H<sub>1</sub>c*** : Students report higher educational value in videos with high production quality and clear structure\n",
        "\n",
        "\n",
        "## **Project Architecture**\n",
        "\n",
        "This Jupyter Notebook is delivered through Google Colab. To the evaluators, a copy of the code will be shared both as a Colab Notebook and\n"
      ],
      "metadata": {
        "id": "jqIum_cPJZeN"
      }
    }
  ]
}